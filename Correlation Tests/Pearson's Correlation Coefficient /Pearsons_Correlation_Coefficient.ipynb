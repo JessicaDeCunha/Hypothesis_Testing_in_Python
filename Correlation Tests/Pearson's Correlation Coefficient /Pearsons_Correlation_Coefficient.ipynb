{
 "cells": [
  {
   "cell_type": "code",
   "execution_count": 1,
   "metadata": {},
   "outputs": [],
   "source": [
    "from numpy.random import seed\n",
    "from numpy.random import randn\n",
    "import pandas as pd\n",
    "from scipy.stats import pearsonr"
   ]
  },
  {
   "cell_type": "code",
   "execution_count": 3,
   "metadata": {},
   "outputs": [],
   "source": [
    "# Seed the random number \n",
    "seed(3)"
   ]
  },
  {
   "cell_type": "code",
   "execution_count": 4,
   "metadata": {},
   "outputs": [],
   "source": [
    "# Generate univariate observations \n",
    "data1 = 5 * randn(100) + 50\n",
    "data2 = 5 * randn(100) + 50"
   ]
  },
  {
   "cell_type": "code",
   "execution_count": 9,
   "metadata": {},
   "outputs": [
    {
     "name": "stdout",
     "output_type": "stream",
     "text": [
      "Stattistic = -0.257, p =  0.010\n",
      "There is likely a dependency between the two samples\n"
     ]
    }
   ],
   "source": [
    "# Correlation Testing\n",
    "stat, p = pearsonr(data1, data2)\n",
    "print('Statistic = % .3f, p = % .3f' % (stat,p))\n",
    "\n",
    "alpha = 0.05\n",
    "\n",
    "if p > alpha:\n",
    "    print('The two samples are likely independent')\n",
    "else: \n",
    "    print('There is likely a dependency between the two samples')"
   ]
  },
  {
   "cell_type": "code",
   "execution_count": null,
   "metadata": {},
   "outputs": [],
   "source": []
  }
 ],
 "metadata": {
  "kernelspec": {
   "display_name": "Python 3.7.7 64-bit ('dev': conda)",
   "language": "python",
   "name": "python37764bitdevconda89d2ee804f3a4a58b8b458ff80fef160"
  },
  "language_info": {
   "codemirror_mode": {
    "name": "ipython",
    "version": 3
   },
   "file_extension": ".py",
   "mimetype": "text/x-python",
   "name": "python",
   "nbconvert_exporter": "python",
   "pygments_lexer": "ipython3",
   "version": "3.7.7"
  }
 },
 "nbformat": 4,
 "nbformat_minor": 4
}
