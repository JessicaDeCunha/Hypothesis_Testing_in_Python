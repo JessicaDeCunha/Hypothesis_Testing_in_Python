{
 "cells": [
  {
   "cell_type": "code",
   "execution_count": 22,
   "metadata": {},
   "outputs": [],
   "source": [
    "from numpy.random import seed\n",
    "from numpy.random import randn\n",
    "from scipy.stats import anderson\n",
    "from sklearn.preprocessing import LabelEncoder\n",
    "import pandas as pd"
   ]
  },
  {
   "cell_type": "code",
   "execution_count": 11,
   "metadata": {},
   "outputs": [],
   "source": [
    "# Seed the random number \n",
    "seed(1)"
   ]
  },
  {
   "cell_type": "code",
   "execution_count": 12,
   "metadata": {},
   "outputs": [],
   "source": [
    "# Generate univariate observations \n",
    "data = 5 * randn(100) + 50"
   ]
  },
  {
   "cell_type": "code",
   "execution_count": 40,
   "metadata": {},
   "outputs": [
    {
     "name": "stdout",
     "output_type": "stream",
     "text": [
      "Statistic: 0.220\n",
      "Probably Gaussian at the 15.0% level (fail to reject H0)\n",
      "Probably Gaussian at the 10.0% level (fail to reject H0)\n",
      "Probably Gaussian at the 5.0% level (fail to reject H0)\n",
      "Probably Gaussian at the 2.5% level (fail to reject H0)\n",
      "Probably Gaussian at the 1.0% level (fail to reject H0)\n"
     ]
    }
   ],
   "source": [
    "# Normality Test\n",
    "result = anderson(data)\n",
    "print('Statistic: %.3f' % result.statistic)\n",
    "for i in range(len(result.critical_values)):\n",
    "    sl, cv = result.significance_level[i], result.critical_values[i]\n",
    "    if results.statistic < cv :\n",
    "        print('Probably Gaussian at the %.1f%% level (fail to reject H0)' % (sl))\n",
    "    else:\n",
    "        print('Probably not Gaussian at the %.1f%% level (reject H0)' % (sl))\n",
    "        "
   ]
  }
 ],
 "metadata": {
  "kernelspec": {
   "display_name": "Python 3.7.7 64-bit ('dev': conda)",
   "language": "python",
   "name": "python37764bitdevconda89d2ee804f3a4a58b8b458ff80fef160"
  },
  "language_info": {
   "codemirror_mode": {
    "name": "ipython",
    "version": 3
   },
   "file_extension": ".py",
   "mimetype": "text/x-python",
   "name": "python",
   "nbconvert_exporter": "python",
   "pygments_lexer": "ipython3",
   "version": "3.7.7"
  }
 },
 "nbformat": 4,
 "nbformat_minor": 4
}
